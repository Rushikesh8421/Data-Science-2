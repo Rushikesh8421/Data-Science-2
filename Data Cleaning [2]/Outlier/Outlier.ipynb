{
 "cells": [
  {
   "cell_type": "markdown",
   "id": "0793d13e-8440-4307-955f-085205451ad0",
   "metadata": {},
   "source": [
    "# Outlier: \n",
    "### An observation in a given dataset that lies far from the rest of the observation"
   ]
  },
  {
   "cell_type": "markdown",
   "id": "5903a34b-765e-4e0c-b4c6-f0d1573dad6f",
   "metadata": {},
   "source": [
    "# Reasons for an outlier exists in the dataset\n",
    "### 1.Data Entry Error\n",
    "### 2.Variability in the data"
   ]
  },
  {
   "cell_type": "markdown",
   "id": "b4843cb8-c4ab-4541-bb24-d53e8289142a",
   "metadata": {},
   "source": [
    "# Everytime outliers are not dangerous\n",
    "#### if we have age data, we get a person age 300, then it is absurd so we have to remove it.\n",
    "#### if we have to check the error in credit card transactions. Then we have to keep a record of outliers"
   ]
  },
  {
   "cell_type": "markdown",
   "id": "37b26a38-8fde-4b53-b156-5e9cee9552a8",
   "metadata": {},
   "source": [
    "# How to treat an outlier ?\n",
    "#### 1. Trimming (Removing the outlier)\n",
    "#### 2. Capping"
   ]
  },
  {
   "cell_type": "markdown",
   "id": "42d09342-878e-4d78-b31b-4772ecd5cd7f",
   "metadata": {},
   "source": [
    "# Ways to find an outlier\n",
    "#### Using z score\n",
    "#### Interquartile range"
   ]
  },
  {
   "cell_type": "code",
   "execution_count": null,
   "id": "3e3c3fe0-50a9-4bc5-87a7-a6173241c924",
   "metadata": {},
   "outputs": [],
   "source": []
  }
 ],
 "metadata": {
  "kernelspec": {
   "display_name": "Python 3 (ipykernel)",
   "language": "python",
   "name": "python3"
  },
  "language_info": {
   "codemirror_mode": {
    "name": "ipython",
    "version": 3
   },
   "file_extension": ".py",
   "mimetype": "text/x-python",
   "name": "python",
   "nbconvert_exporter": "python",
   "pygments_lexer": "ipython3",
   "version": "3.9.6"
  }
 },
 "nbformat": 4,
 "nbformat_minor": 5
}
