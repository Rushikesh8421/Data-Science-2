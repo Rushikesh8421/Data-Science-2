{
 "cells": [
  {
   "cell_type": "markdown",
   "id": "e881ee80-cdeb-4e37-9186-d660d40ddadf",
   "metadata": {},
   "source": [
    "# Interquartile Method\n",
    "# Quartiles:\n",
    "#### Three points which divide the total data into four equal parts when it has been orderly arranged are known as Quartiles\n",
    "#### Q1 - first quartile Q2 - second quartile Q3 - third quartile"
   ]
  },
  {
   "cell_type": "markdown",
   "id": "298ed38b-cf3e-4b1d-bf5e-54f85c0a755b",
   "metadata": {},
   "source": [
    "# Interquartile Range\n",
    "#### The data range that contains the middle 50% of the entries\n",
    "### IQR = Q3 - Q1"
   ]
  },
  {
   "cell_type": "code",
   "execution_count": null,
   "id": "635be6ea-b039-4b75-b979-7a1d6e0ac097",
   "metadata": {},
   "outputs": [],
   "source": []
  }
 ],
 "metadata": {
  "kernelspec": {
   "display_name": "Python 3 (ipykernel)",
   "language": "python",
   "name": "python3"
  },
  "language_info": {
   "codemirror_mode": {
    "name": "ipython",
    "version": 3
   },
   "file_extension": ".py",
   "mimetype": "text/x-python",
   "name": "python",
   "nbconvert_exporter": "python",
   "pygments_lexer": "ipython3",
   "version": "3.9.6"
  }
 },
 "nbformat": 4,
 "nbformat_minor": 5
}
